{
 "cells": [
  {
   "cell_type": "code",
   "execution_count": null,
   "id": "a73f89bd",
   "metadata": {},
   "outputs": [],
   "source": [
    "import numpy as np\n",
    "import matplotlib.pyplot as plt\n",
    "from tqdm import tqdm\n",
    "import pandas as pd\n",
    "from scipy.ndimage import distance_transform_edt as dst\n",
    "import sys\n",
    "sys.path.insert(0,r'../src')\n",
    "from Vsi import Vsi, rock_type, read_image\n",
    "import os\n",
    "import tifffile\n",
    "import glob"
   ]
  },
  {
   "cell_type": "code",
   "execution_count": null,
   "id": "bf51cfc8",
   "metadata": {},
   "outputs": [],
   "source": [
    "os.chdir(r'../data')\n",
    "imgs = glob.glob('*.tif')"
   ]
  },
  {
   "cell_type": "markdown",
   "id": "ac58e313",
   "metadata": {},
   "source": [
    "###### load and visualize data"
   ]
  },
  {
   "cell_type": "code",
   "execution_count": null,
   "id": "551fe40d",
   "metadata": {},
   "outputs": [],
   "source": [
    "fg,ax = plt.subplots(2,2, figsize=(8,8))\n",
    "ax=ax.ravel()\n",
    "for i, f_name in enumerate(imgs):\n",
    "    im = read_image(f_name, pore_phase=1)\n",
    "    fig_im = ax[i].imshow(im[0], 'gray')\n",
    "    ax[i].set_title(f_name[:-4])\n",
    "fg.colorbar(fig_im, ax=ax.tolist())"
   ]
  },
  {
   "cell_type": "markdown",
   "id": "656237da",
   "metadata": {},
   "source": [
    "### Scale-independent Variance"
   ]
  },
  {
   "cell_type": "code",
   "execution_count": null,
   "id": "59165387",
   "metadata": {},
   "outputs": [],
   "source": [
    "res={}\n",
    "for i, f_name in enumerate(imgs):\n",
    "    im = read_image(f_name, pore_phase=1)\n",
    "    # ----- get the relative radius-----------\n",
    "    ds=dst(im[0]) # distance map of a slice, for fast computation. \n",
    "    mn_r1 = int(ds.max()) # maximum width of pores is used as minimum radius for moving windows\n",
    "    mx_r1 = mn_r1+100\n",
    "    #print('starting radius for '+f_name[:-4]+' is '+str(mn_r1)+' voxels')\n",
    "    #------run the Vsi--------------\n",
    "    vf = Vsi(im, no_radii=20,\n",
    "         no_samples_per_radius=200,\n",
    "         min_radius=mn_r1, max_radius=mx_r1)\n",
    "    res[f_name[:-4]] = vf"
   ]
  },
  {
   "cell_type": "markdown",
   "id": "39ad8e92",
   "metadata": {},
   "source": [
    "Plot result"
   ]
  },
  {
   "cell_type": "code",
   "execution_count": null,
   "id": "045ddc44",
   "metadata": {},
   "outputs": [],
   "source": [
    "plt.subplot(211)\n",
    "for k in res.keys():\n",
    "    plt.plot(res[k].variance, label=k)\n",
    "res[k].plot()\n",
    "\n",
    "plt.subplot(212)\n",
    "for k in res.keys():\n",
    "    plt.plot(res[k].variance, label=k)\n",
    "res[k].plot(fill=0,legend=0)\n",
    "plt.yscale('log')\n",
    "plt.tight_layout()"
   ]
  },
  {
   "cell_type": "code",
   "execution_count": null,
   "id": "8fa3cc6f",
   "metadata": {},
   "outputs": [],
   "source": [
    "for k in res.keys():\n",
    "    print(k,res[k].rock_type())"
   ]
  },
  {
   "cell_type": "code",
   "execution_count": null,
   "id": "f235e1e3",
   "metadata": {},
   "outputs": [],
   "source": [
    "# result for 1 sample\n",
    "res[k].result()"
   ]
  },
  {
   "cell_type": "code",
   "execution_count": null,
   "id": "acb5f535",
   "metadata": {},
   "outputs": [],
   "source": [
    "df = pd.DataFrame(columns=['Radii','Variance','Sample'])\n",
    "for k in res.keys():\n",
    "    df0 = res[k].result()\n",
    "    df0['Sample']=k\n",
    "    df = pd.concat([df,df0])\n",
    "df"
   ]
  },
  {
   "cell_type": "code",
   "execution_count": null,
   "id": "92114f10",
   "metadata": {},
   "outputs": [],
   "source": []
  }
 ],
 "metadata": {
  "kernelspec": {
   "display_name": "Python 3 (ipykernel)",
   "language": "python",
   "name": "python3"
  },
  "language_info": {
   "codemirror_mode": {
    "name": "ipython",
    "version": 3
   },
   "file_extension": ".py",
   "mimetype": "text/x-python",
   "name": "python",
   "nbconvert_exporter": "python",
   "pygments_lexer": "ipython3",
   "version": "3.11.7"
  }
 },
 "nbformat": 4,
 "nbformat_minor": 5
}

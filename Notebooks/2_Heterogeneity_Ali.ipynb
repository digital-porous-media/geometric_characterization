{
 "cells": [
  {
   "cell_type": "markdown",
   "id": "6b9329ed",
   "metadata": {},
   "source": [
    "# 2. Heterogeneity Measurement"
   ]
  },
  {
   "cell_type": "code",
   "execution_count": null,
   "id": "a73f89bd",
   "metadata": {},
   "outputs": [],
   "source": [
    "import numpy as np\n",
    "import matplotlib.pyplot as plt\n",
    "from tqdm import tqdm\n",
    "import pandas as pd\n",
    "from scipy.ndimage import distance_transform_edt as dst\n",
    "import sys\n",
    "sys.path.insert(0,r'../src')\n",
    "from Vsi import Vsi, rock_type, read_image\n",
    "import os\n",
    "import tifffile\n",
    "import glob"
   ]
  },
  {
   "cell_type": "markdown",
   "id": "ac58e313",
   "metadata": {},
   "source": [
    "## Load the data"
   ]
  },
  {
   "cell_type": "code",
   "execution_count": null,
   "id": "c177047f",
   "metadata": {},
   "outputs": [],
   "source": [
    "img_list = glob.glob('../Data/*.ubc')\n",
    "img_list"
   ]
  },
  {
   "cell_type": "code",
   "execution_count": null,
   "id": "551fe40d",
   "metadata": {},
   "outputs": [],
   "source": [
    "# Reading Images\n",
    "img_list = glob.glob('../Data/*.ubc')\n",
    "castlegate, sandpack, gambier, beadpack  = [np.fromfile(img,dtype='uint8') for img in img_list]\n",
    "\n",
    "# Reshaping Images\n",
    "gambier = gambier.reshape((512,512,512))\n",
    "castlegate = castlegate.reshape((512,512,512))\n",
    "beadpack = beadpack.reshape((512,512,512))\n",
    "sandpack = sandpack.reshape((512,512,512))\n",
    "\n",
    "# Iverting the binary arrays (switching void and solid phases)\n",
    "gambier = np.invert(gambier==True).astype('uint8')\n",
    "castlegate = np.invert(castlegate==True).astype('uint8')\n",
    "beadpack = np.invert(beadpack==True).astype('uint8')\n",
    "sandpack = np.invert(sandpack==True).astype('uint8')\n",
    "\n",
    "prepared_images = [castlegate, sandpack, gambier, beadpack]"
   ]
  },
  {
   "cell_type": "markdown",
   "id": "656237da",
   "metadata": {},
   "source": [
    "### Scale-independent Variance"
   ]
  },
  {
   "cell_type": "code",
   "execution_count": null,
   "id": "59165387",
   "metadata": {},
   "outputs": [],
   "source": [
    "res={}\n",
    "for i, f_name in enumerate(img_list):\n",
    "    im = prepared_images[i]\n",
    "    # ----- get the relative radius-----------\n",
    "    ds=dst(im[0]) # distance map of a slice, for fast computation. \n",
    "    mn_r1 = int(ds.max()) # maximum width of pores is used as minimum radius for moving windows\n",
    "    mx_r1 = mn_r1+100\n",
    "    #print('starting radius for '+f_name[:-4]+' is '+str(mn_r1)+' voxels')\n",
    "    #------run the Vsi--------------\n",
    "    vf = Vsi(im, no_radii=20,\n",
    "         no_samples_per_radius=200,\n",
    "         min_radius=mn_r1, max_radius=mx_r1)\n",
    "    res[f_name[:-4]] = vf"
   ]
  },
  {
   "cell_type": "markdown",
   "id": "39ad8e92",
   "metadata": {},
   "source": [
    "Plot result"
   ]
  },
  {
   "cell_type": "code",
   "execution_count": null,
   "id": "045ddc44",
   "metadata": {},
   "outputs": [],
   "source": [
    "colors = ['blue', 'red', 'darkorange', 'cyan']\n",
    "plt.subplot(211)\n",
    "for i, k in enumerate(res.keys()):\n",
    "    plt.plot(res[k].variance, label=k, color=colors[i])\n",
    "res[k].plot()\n",
    "\n",
    "plt.subplot(212)\n",
    "for i, k in enumerate(res.keys()):\n",
    "    plt.plot(res[k].variance, label=k, color=colors[i])\n",
    "res[k].plot(fill=1,legend=0)\n",
    "plt.yscale('log')\n",
    "plt.tight_layout()"
   ]
  },
  {
   "cell_type": "code",
   "execution_count": null,
   "id": "8fa3cc6f",
   "metadata": {},
   "outputs": [],
   "source": [
    "for k in res.keys():\n",
    "    print(k,res[k].rock_type())"
   ]
  },
  {
   "cell_type": "code",
   "execution_count": null,
   "id": "f235e1e3",
   "metadata": {},
   "outputs": [],
   "source": [
    "# result for 1 sample\n",
    "res[k].result()"
   ]
  },
  {
   "cell_type": "code",
   "execution_count": null,
   "id": "acb5f535",
   "metadata": {},
   "outputs": [],
   "source": [
    "df = pd.DataFrame(columns=['Radii','Variance','Sample'])\n",
    "for k in res.keys():\n",
    "    df0 = res[k].result()\n",
    "    df0['Sample']=k\n",
    "    df = pd.concat([df,df0])\n",
    "df"
   ]
  }
 ],
 "metadata": {
  "kernelspec": {
   "display_name": "Python 3 (ipykernel)",
   "language": "python",
   "name": "python3"
  },
  "language_info": {
   "codemirror_mode": {
    "name": "ipython",
    "version": 3
   },
   "file_extension": ".py",
   "mimetype": "text/x-python",
   "name": "python",
   "nbconvert_exporter": "python",
   "pygments_lexer": "ipython3",
   "version": "3.11.7"
  }
 },
 "nbformat": 4,
 "nbformat_minor": 5
}

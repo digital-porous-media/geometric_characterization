{
 "cells": [
  {
   "cell_type": "markdown",
   "id": "9612c988",
   "metadata": {},
   "source": [
    "# 1. Minkowski Functionals\n",
    "___\n",
    "**Author Contact:** <br>\n",
    "Email: [bcchang@utexas.edu](mailto:bcchang@utexas.edu)\n",
    "\n",
    "This notebook demonstrates some methods of computing the four Minkowski functionals (in 3D). The four Minkowski functionals are:\n",
    "\n",
    "1. Volume\n",
    "2. Surface Area\n",
    "3. Integral Mean Curvature\n",
    "4. Euler Characteristic\n",
    "\n",
    "In this notebook, we compare Minkowski functional calculations via 2 methods: \n",
    "- Counts arrangements of $2^3$ neighborhoods of voxels using Quantimpy [[1]](#1) \n",
    "- Creates a mesh using Scikit-Image[[2]](#2), Trimesh, and Porespy[[4]](#4) \n",
    "\n",
    "______\n",
    "\n",
    "## 0. Import some packages"
   ]
  },
  {
   "cell_type": "code",
   "execution_count": null,
   "id": "20ea85d4",
   "metadata": {},
   "outputs": [],
   "source": [
    "# Some Utility functions\n",
    "import os\n",
    "import glob\n",
    "import sys\n",
    "sys.path.append('../')\n",
    "import requests\n",
    "# import src.utils\n",
    "\n",
    "# Image processsing\n",
    "import skimage\n",
    "from skimage.morphology import ball\n",
    "\n",
    "# Image visualization\n",
    "import pyvista as pv\n",
    "pv.start_xvfb() # for visualization in codespaces # no need in local\n",
    "pv.set_jupyter_backend('static') # for keeping the visualizations static in the server # no need in local\n",
    "# pv.set_jupyter_backend('server')\n",
    "import matplotlib.pyplot as plt\n",
    "import tifffile\n",
    "\n",
    "# Image quantification\n",
    "import numpy as np\n",
    "from quantimpy import minkowski as mk\n",
    "import porespy as ps\n",
    "import trimesh\n",
    "\n",
    "# Jupyter widgets\n",
    "from ipywidgets import interact, interactive\n",
    "import ipywidgets as widgets\n",
    "from IPython.display import display, clear_output"
   ]
  },
  {
   "cell_type": "code",
   "execution_count": null,
   "id": "53f577f6",
   "metadata": {},
   "outputs": [],
   "source": [
    "# def download_file_url(file_url,filename):\n",
    "\n",
    "#     # download file\n",
    "#     r = requests.get(file_url, stream = True) \n",
    "\n",
    "#     with open(filename,\"wb\") as f: \n",
    "#         for chunk in r.iter_content(chunk_size=1024): \n",
    "\n",
    "#              # writing one chunk at a time to pdf file \n",
    "#              if chunk: \n",
    "#                  f.write(chunk)\n",
    "#     return()\n",
    "\n",
    "# parent_dir = '../Data/'\n",
    "# file_names = ['gambier.ubc', 'beadpack.ubc', 'sandpack.ubc', 'castlegate.ubc']\n",
    "# file_dirs = [parent_dir+file for file in file_names]\n",
    "# file_links = ['https://www.digitalrocksportal.org/projects/16/images/65565/download/',\n",
    "#               'https://www.digitalrocksportal.org/projects/16/images/65563/download/',\n",
    "#               'https://www.digitalrocksportal.org/projects/16/images/65566/download/',\n",
    "#               'https://www.digitalrocksportal.org/projects/16/images/65564/download/']\n",
    "\n",
    "# for i in range(0,len(file_dirs)):\n",
    "#     download_file_url(file_links[i],file_dirs[i])"
   ]
  },
  {
   "cell_type": "markdown",
   "id": "c0ed6f85",
   "metadata": {},
   "source": [
    "## 1. Computing the Minkowski Functionals<a class=\"anchor\" id=\"chapter1\"></a>\n",
    "\n",
    "For the following introductory demonstrations, we will use a single solid sphere sample as the motivating example. At the end, we will have the opportunity to try the functions on the other samples.\n",
    "\n",
    "Generally speaking, the Minkowski functionals can be computed using voxel methods or mesh methods. We will explore both here using the Quantimpy (voxelized) and the Trimesh/Skimage (mesh) libraries.\n",
    "\n",
    "**In the following cell, we create and visualize a solid sphere of radius 100 voxels**\n"
   ]
  },
  {
   "cell_type": "code",
   "execution_count": null,
   "id": "fca31cb5",
   "metadata": {},
   "outputs": [],
   "source": [
    "radius = 100\n",
    "side_length = 250\n",
    "\n",
    "sphere = np.zeros([side_length, side_length, side_length], dtype=np.uint8)\n",
    "id_a = side_length // 2 - radius\n",
    "id_b = side_length // 2 + radius + 1\n",
    "sphere[id_a:id_b, id_a:id_b, id_a:id_b] = ball(radius, dtype=np.uint8)\n",
    "\n",
    "plotter_obj = pv.Plotter(lighting='three lights')\n",
    "\n",
    "# Set background colors\n",
    "plotter_obj.set_background(color='w')\n",
    "\n",
    "# Set font colors and sizes\n",
    "\n",
    "pv.global_theme.font.color = 'black'\n",
    "pv.global_theme.font.size = 18\n",
    "pv.global_theme.font.label_size = 14\n",
    "\n",
    "pv_image_obj = pv.wrap(sphere)\n",
    "contours = pv_image_obj.contour(isosurfaces=[0.5])\n",
    "plotter_obj.add_mesh(contours, opacity=1, color=(200 / 255, 181 / 255, 152 / 255), diffuse=0.75, ambient=0.15)\n",
    "\n",
    "\n",
    "plotter_obj.show()"
   ]
  },
  {
   "cell_type": "markdown",
   "id": "34d898a6",
   "metadata": {},
   "source": [
    "**Before we begin, we create a function to compare our package computations with the analytical solution**\n"
   ]
  },
  {
   "cell_type": "code",
   "execution_count": null,
   "id": "4cb10824",
   "metadata": {},
   "outputs": [],
   "source": [
    "def analytical_solution(radius):\n",
    "    volume_analytical = 4/3 * np.pi * radius**3\n",
    "    surface_area_analytical = 4 * np.pi * radius**2\n",
    "    mean_curvature_analytical = 4 * np.pi * radius\n",
    "    euler_analytical = 1.0\n",
    "    \n",
    "    return volume_analytical, surface_area_analytical, mean_curvature_analytical, euler_analytical\n",
    "\n",
    "\n",
    "def compute_error(true, computed_measures):\n",
    "    return [np.abs((true - compute) / true)*100 for compute in computed_measures]\n",
    "\n",
    "volume_analytical, surface_area_analytical, mean_curvature_analytical, euler_analytical = analytical_solution(radius)"
   ]
  },
  {
   "cell_type": "markdown",
   "id": "5e6b8234",
   "metadata": {},
   "source": [
    "### 1.1 Volume Calculation\n",
    "\n",
    "Considering a 3D body, $X$, with a smooth boundary, $\\delta X$, the first Minkowski functional (volume) can be computed as:\n",
    "$$ M_0(X) = \\int_X dv $$\n",
    "\n",
    "For a sphere, the volume can be found as:\n",
    "$$ M_0 = \\frac{4}{3} \\pi R^3 $$\n",
    "\n",
    "In practice, volume is the most straightforward of the Minkowski functionals set to compute.\n",
    "\n",
    "Here, we compare a few different methods and packages for computing the volume of the pore space, split into voxelized methods and mesh methods:\n",
    "\n",
    "1. Voxel Counting\n",
    "2. Quantimpy (Voxelized)\n",
    "3. Trimesh (Mesh)\n",
    "\n"
   ]
  },
  {
   "cell_type": "code",
   "execution_count": null,
   "id": "7709f12b",
   "metadata": {},
   "outputs": [],
   "source": [
    "def compute_volume(image):\n",
    "    # Simple voxel counting\n",
    "    voxel_counting = np.sum(image == 1)\n",
    "    \n",
    "    # Quantimpy\n",
    "    quantimpy_measures = mk.functionals(image.astype(bool))[0]\n",
    "    \n",
    "    # Mesh Volume\n",
    "    mesh_measures = np.abs(ps.metrics.mesh_volume(image))\n",
    "    \n",
    "    return voxel_counting, quantimpy_measures, mesh_measures\n",
    "\n",
    "volume_measures = compute_volume(sphere)\n",
    "volume_errors = compute_error(volume_analytical, volume_measures)\n",
    "\n",
    "print(\"Volume Calculations:\")\n",
    "print(f\"\\tAnalytical Solution: {volume_analytical:0.3f}\")\n",
    "print(f\"\\tVoxel Counting: {volume_measures[0]:0.3f} \\t Rel. Error: {volume_errors[0]:0.3f}%\")\n",
    "print(f\"\\tQuantimpy: {volume_measures[1]:0.3f} \\t\\t Rel. Error: {volume_errors[1]:0.3f}%\")\n",
    "print(f\"\\tMesh: {volume_measures[2]:0.3f} \\t\\t Rel. Error: {volume_errors[2]:0.3f}%\")\n"
   ]
  },
  {
   "cell_type": "markdown",
   "id": "fefa5c40",
   "metadata": {},
   "source": [
    "### 1.2 Surface Calculation\n",
    "\n",
    "The second Minkowski functional (surface area) can be computed as:\n",
    "$$ M_1(X) = \\int_{\\delta X} ds $$\n",
    "\n",
    "For a sphere, the surface area can be found as:\n",
    "$$ M_1 = 4 \\pi R^2 $$\n",
    "\n",
    "Again, there are multiple ways to compute the surface area of the solid/pore boundary. Here, we compare:\n",
    "\n",
    "1. Quantimpy (voxelized), and\n",
    "2. Surface Mesh method (Skimage):"
   ]
  },
  {
   "cell_type": "code",
   "execution_count": null,
   "id": "78010e92",
   "metadata": {},
   "outputs": [],
   "source": [
    "def compute_surface_area(image, smoothing=None):\n",
    "    # Quantimpy\n",
    "    quantimpy_surface_area = 8 * mk.functionals(image.astype(bool))[1]\n",
    "    \n",
    "    # Mesh Surface Area\n",
    "    verts, faces, normals, values = skimage.measure.marching_cubes(image, level = smoothing)\n",
    "    mesh_surface_area = skimage.measure.mesh_surface_area(verts, faces)\n",
    "    \n",
    "    return quantimpy_surface_area, mesh_surface_area\n",
    "\n",
    "# Compute the surface area using 0.5 isosurface\n",
    "surface_area_measures = compute_surface_area(sphere)\n",
    "surface_area_errors = compute_error(surface_area_analytical, surface_area_measures)\n",
    "\n",
    "# Compute the surface area using some other isosurface\n",
    "_, surface_area_measures_blocky = compute_surface_area(sphere, smoothing:=0)\n",
    "surface_area_errors_blocky = compute_error(surface_area_analytical, [surface_area_measures_blocky])\n",
    "\n",
    "print(\"Surface Area Calculations:\")\n",
    "print(f\"\\tAnalytical Solution: {surface_area_analytical:0.3f}\")\n",
    "print(f\"\\tQuantimpy: {surface_area_measures[0]:0.3f} \\t\\t Rel. Error: {surface_area_errors[0]:0.3f}%\")\n",
    "print(f\"\\tMesh (0.5 Isosurface): {surface_area_measures[1]:0.3f} \\t Rel. Error: {surface_area_errors[1]:0.3f}%\")\n",
    "print(f\"\\tMesh ({smoothing} Isosurface): {surface_area_measures_blocky:0.3f} \\t Rel. Error: {surface_area_errors_blocky[0]:0.3f}%\")"
   ]
  },
  {
   "cell_type": "markdown",
   "id": "3f4e0b14",
   "metadata": {},
   "source": [
    "### 1.3 Integral Mean Curvature Calculation\n",
    "\n",
    "The third Minkowski functional (integral mean curvature area) can be computed as:\n",
    "    $$ M_2(X) = \\int_{\\delta X} \\frac{1}{2} \\left[ \\frac{1}{R_1} + \\frac{1}{R_2} \\right] ds $$\n",
    " \n",
    "For a sphere, the principal radii of curvature are the same everywhere (i.e. $R_1 = R_2$). Therefore, the analytical integral mean curvature can be found as:\n",
    "$$ M_2 = 4 \\pi R $$\n",
    "\n",
    "3D curvature measurements are not trivial to compute. Though there are many methods to compute the curvature, we will stick with the built in functions available in Quantimpy and the Trimesh library. \n",
    "\n",
    "1. Quantimpy (voxelized), and\n",
    "2. Surface Mesh method (Implemented with Trimesh):"
   ]
  },
  {
   "cell_type": "code",
   "execution_count": null,
   "id": "d31a518f",
   "metadata": {},
   "outputs": [],
   "source": [
    "def compute_mean_curvature(image):\n",
    "    # Quantimpy\n",
    "    quantimpy_mean_curvature = 2*np.pi**2 * mk.functionals(image.astype(bool))[2]\n",
    "    \n",
    "    # Mesh Surface Area\n",
    "    trimesh_sphere = trimesh.creation.icosphere(radius=radius)\n",
    "    mesh_mean_curvature = trimesh_sphere.integral_mean_curvature\n",
    "    \n",
    "    return quantimpy_mean_curvature, mesh_mean_curvature\n",
    "\n",
    "mean_curvature_measures = compute_mean_curvature(sphere)\n",
    "mean_curvature_errors = compute_error(mean_curvature_analytical, mean_curvature_measures)\n",
    "\n",
    "print(\"Mean Calculations:\")\n",
    "print(f\"\\tAnalytical Solution: {mean_curvature_analytical:0.3f}\")\n",
    "print(f\"\\tQuantimpy: {mean_curvature_measures[0]:0.3f} \\t Rel. Error: {mean_curvature_errors[0]:0.3f}%\")\n",
    "print(f\"\\tMesh: {mean_curvature_measures[1]:0.3f} \\t\\t Rel. Error: {mean_curvature_errors[1]:0.3f}%\")\n"
   ]
  },
  {
   "cell_type": "markdown",
   "id": "c72af0eb",
   "metadata": {},
   "source": [
    "### 1.4 Euler Characteristic\n",
    "\n",
    "The fourth Minkowski functional (Gaussian curvature) can be computed as:\n",
    "    $$ M_3(X) = \\int_{\\delta X} \\left[ \\frac{1}{R_1R_2} \\right] ds $$\n",
    "\n",
    "Because the principal radii of curvature are the same everywhere for a sphere (i.e. $R_1 = R_2$), the analytical total curvature can be found as:\n",
    "$$ M_3 = 4 \\pi$$\n",
    "    \n",
    "The Gauss-Bonnet theorem links the Gaussian Curvature to the Euler characteristic (or Euler number) by:\n",
    "\n",
    "$$ 4\\pi\\chi = M_3(X) $$\n",
    "\n",
    "So, for a solid ball, the Euler number ($\\chi$) $= 1$\n",
    "\n",
    "\n",
    "Here, we compute the Euler number using:\n",
    "1. Quantimpy, and\n",
    "2. Skimage"
   ]
  },
  {
   "cell_type": "code",
   "execution_count": null,
   "id": "0937c453",
   "metadata": {},
   "outputs": [],
   "source": [
    "def compute_euler_number(image):\n",
    "    # Quantimpy\n",
    "    quantimpy_euler_number = 4*np.pi/3 * mk.functionals(image.astype(bool))[3]\n",
    "    \n",
    "    # Mesh Surface Area\n",
    "    skimage_euler_number = skimage.measure.euler_number(image, connectivity=3)\n",
    "    \n",
    "    return quantimpy_euler_number, skimage_euler_number\n",
    "\n",
    "euler_number_measures = compute_euler_number(sphere)\n",
    "euler_number_errors = compute_error(euler_analytical, euler_number_measures)\n",
    "\n",
    "print(\"Euler Number Calculations:\")\n",
    "print(f\"\\tAnalytical Solution: {euler_analytical:0.3f}\")\n",
    "print(f\"\\tQuantimpy: {euler_number_measures[0]:0.3f} \\t Rel. Error: {euler_number_errors[0]:0.3f}%\")\n",
    "print(f\"\\tSkimage: {euler_number_measures[1]:0.3f} \\t\\t Rel. Error: {euler_number_errors[1]:0.3f}%\")\n"
   ]
  },
  {
   "cell_type": "markdown",
   "id": "57dbf42a",
   "metadata": {},
   "source": [
    "## 2. Minkowski Functionals in Rock Samples\n",
    "\n",
    "In the following cell, we compute the Minkowski functionals for the four samples we previously examined. For sake of simplicity, we will only use the Quantimpy library here."
   ]
  },
  {
   "cell_type": "markdown",
   "id": "34936efe-abd3-4e4d-997a-b4366e496085",
   "metadata": {},
   "source": [
    "### 2.1 Reading our data\n",
    "\n",
    "We load in TIFF images from the \"Data\" directory. This directory contains segmented x-ray microtomography data from the Network Generation Comparison Forum and is available on the Digital Rocks Portal (https://www.digitalrocksportal.org/projects/16). \n",
    "\n",
    "For the purposes of this exercise, we have preprocessed the data to have solid and pore labeled as 0 and 1, respectively."
   ]
  },
  {
   "cell_type": "code",
   "execution_count": null,
   "id": "36c9d17c",
   "metadata": {},
   "outputs": [],
   "source": [
    "# Reading Images\n",
    "img_list = glob.glob('../Data/*.ubc')\n",
    "gambier, castlegate, beadpack, sandpack = [np.fromfile(img,dtype='uint8') for img in img_list]\n",
    "\n",
    "# Reshaping Images\n",
    "gambier = gambier.reshape((512,512,512))\n",
    "castlegate = castlegate.reshape((512,512,512))\n",
    "beadpack = beadpack.reshape((512,512,512))\n",
    "sandpack = sandpack.reshape((512,512,512))\n",
    "\n",
    "# Inverting the binary arrays (switching void and solid phases)\n",
    "gambier = np.invert(gambier==True).astype('uint8')\n",
    "castlegate = np.invert(castlegate==True).astype('uint8')\n",
    "beadpack = np.invert(beadpack==True).astype('uint8')\n",
    "sandpack = np.invert(sandpack==True).astype('uint8')"
   ]
  },
  {
   "cell_type": "code",
   "execution_count": null,
   "id": "17fb1f50",
   "metadata": {},
   "outputs": [],
   "source": [
    "fig, ax = plt.subplots(nrows=2, ncols=2,figsize=(7,7))\n",
    "ax = ax.flatten()\n",
    "\n",
    "skimage.io.imshow(sandpack[0,:,:], cmap='gray', ax=ax[0])\n",
    "ax[0].set_title('Sand Pack',fontsize=14)\n",
    "\n",
    "skimage.io.imshow(gambier[0,:,:], cmap='gray', ax=ax[1])\n",
    "ax[1].set_title('Gambier Limestone',fontsize=14)\n",
    "\n",
    "skimage.io.imshow(beadpack[0,:,:], cmap='gray', ax=ax[2])\n",
    "ax[2].set_title('Glass Bead Pack',fontsize=14)\n",
    "\n",
    "skimage.io.imshow(castlegate[0,:,:], cmap='gray', ax=ax[3])\n",
    "ax[3].set_title('Castlegate Sandstone',fontsize=14)\n",
    "\n",
    "plt.show()"
   ]
  },
  {
   "cell_type": "markdown",
   "id": "b7ef85e4-28f6-41b5-8fa8-4a3a2165f2b2",
   "metadata": {},
   "source": [
    "### 2.2 3D Visualization\n",
    "\n",
    "Here, we view our segmented image in 3D using the PyVista 3D visualization library.\n",
    "\n",
    "<font color='red'>**Warning:**</font> These images are $512^3$ voxels and can be quite large to try to visualize on a local machine. By default, we plot a $100^3$ subset of the full images, but you can try to plot the entire image if your machine allows."
   ]
  },
  {
   "cell_type": "code",
   "execution_count": null,
   "id": "c4d28ab3",
   "metadata": {},
   "outputs": [],
   "source": [
    "def plot_sample(sample, subset=True):\n",
    "    pv.set_jupyter_backend('static') # remove for interactive\n",
    "\n",
    "    plotter_obj = pv.Plotter(lighting='three lights')\n",
    "    \n",
    "    # Set background colors\n",
    "    plotter_obj.set_background(color='w')\n",
    "\n",
    "    # Set font colors and sizes\n",
    "    pv.global_theme.font.color = 'black'\n",
    "    pv.global_theme.font.size = 18\n",
    "    pv.global_theme.font.label_size = 14\n",
    "    \n",
    "    if subset:\n",
    "        sample = sample[206:306, 206:306, 206:306]\n",
    "\n",
    "    sample = np.pad(sample, ((1, 1), (1, 1), (1, 1)), mode='constant', constant_values=1)\n",
    "    \n",
    "    pv_image_obj = pv.wrap(sample)\n",
    "    contours = pv_image_obj.contour(isosurfaces=[0.5])\n",
    "    plotter_obj.add_mesh(contours, opacity=1, color=(200 / 255, 181 / 255, 152 / 255), diffuse=0.75, ambient=0.15)\n",
    "    \n",
    "    \n",
    "    plotter_obj.show(jupyter_backend='static') # remove the function keyword jupyter_backend for interactive plots"
   ]
  },
  {
   "cell_type": "markdown",
   "id": "2649aa98-feb1-4b7d-a1b3-2d1ed875cc07",
   "metadata": {},
   "source": [
    "#### 2.2.1 3D Plot of Beadpack"
   ]
  },
  {
   "cell_type": "code",
   "execution_count": null,
   "id": "60ff6a5c-ef3a-4254-a261-9b55ef61abc0",
   "metadata": {},
   "outputs": [],
   "source": [
    "# 100^3 subsample\n",
    "plot_sample(beadpack, subset=True)\n",
    "\n",
    "# Uncomment for Full 512^3 sample\n",
    "# plot_sample(beadpack, subset=False)"
   ]
  },
  {
   "cell_type": "markdown",
   "id": "20c835a1-69c1-4e99-9395-31968ddb15ea",
   "metadata": {},
   "source": [
    "#### 2.2.2 3D Plot of Sandpack"
   ]
  },
  {
   "cell_type": "code",
   "execution_count": null,
   "id": "d4ef5460-cad6-49c0-9d5e-900f996449b5",
   "metadata": {},
   "outputs": [],
   "source": [
    "# 100^3 subsample\n",
    "plot_sample(sandpack, subset=True)\n",
    "\n",
    "# Uncomment for Full 512^3 sample\n",
    "# plot_sample(sandpack, subset=False)"
   ]
  },
  {
   "cell_type": "markdown",
   "id": "5c8271be-f2cd-47f8-8b47-fc36307b1a0f",
   "metadata": {},
   "source": [
    "#### 2.2.3 3D Plot of Castlegate Sandstone"
   ]
  },
  {
   "cell_type": "code",
   "execution_count": null,
   "id": "861ba15a-a0d7-426e-8bf5-00fa337d57fb",
   "metadata": {},
   "outputs": [],
   "source": [
    "# 100^3 subsample\n",
    "plot_sample(castlegate, subset=True)\n",
    "\n",
    "# Uncomment for Full 512^3 sample\n",
    "# plot_sample(castlegate, subset=False)"
   ]
  },
  {
   "cell_type": "markdown",
   "id": "d41e7963-5d99-4000-a20f-a8d3c1b5bdb8",
   "metadata": {},
   "source": [
    "#### 2.2.4 3D Plot of Mt. Gambier Limestone"
   ]
  },
  {
   "cell_type": "code",
   "execution_count": null,
   "id": "5f041fa9-ee78-453a-9716-376c3fc8135c",
   "metadata": {},
   "outputs": [],
   "source": [
    "# 100^3 subsample\n",
    "plot_sample(gambier, subset=True)\n",
    "\n",
    "# Uncomment for Full 512^3 sample\n",
    "# plot_sample(gambier, subset=False)"
   ]
  },
  {
   "cell_type": "code",
   "execution_count": null,
   "id": "1a287d58",
   "metadata": {},
   "outputs": [],
   "source": [
    "def get_quantimpy_mf(image):\n",
    "    mf0, mf1, mf2, mf3 = mk.functionals(image.astype(bool))\n",
    "    mf1 *= 8\n",
    "    mf2 *= 2*np.pi**2\n",
    "    mf3 *= 4*np.pi/3\n",
    "    return [mf0, mf1, mf2, mf3]\n",
    "\n",
    "def compute_sample_mf(sample):\n",
    "    \n",
    "    sample_dict = {'Sandpack': sandpack,\n",
    "                  'Mt. Gambier Limestone': gambier, \n",
    "                   'Beadpack': beadpack, \n",
    "                   'Castlegate Sandstone': castlegate}\n",
    "    \n",
    "    fig, ax = plt.subplots(nrows=1, ncols=1,figsize=(8,8))\n",
    "    \n",
    "    plt.imshow(sample_dict[sample][0], cmap='gray')\n",
    "    ax.set_title(sample,fontsize=14)\n",
    "    plt.colorbar()\n",
    "    mfs = get_quantimpy_mf(sample_dict[sample])\n",
    "\n",
    "    print('Minkowski Functionals:')\n",
    "    print(f'\\tVolume: {mfs[0]:0.3f}')\n",
    "    print(f'\\tSurface Area: {mfs[1]:0.3f}')\n",
    "    print(f'\\tIntegral Mean Curvature: {mfs[2]:0.3f}')\n",
    "    print(f'\\tEuler Number: {mfs[3]:0.3f}')\n",
    "    \n",
    "interactive(compute_sample_mf, sample=widgets.Dropdown(options=['Beadpack', 'Sandpack', 'Mt. Gambier Limestone', 'Castlegate Sandstone'],\n",
    "                                                description='Sample: ',\n",
    "                                                value='Beadpack'),)\n"
   ]
  },
  {
   "cell_type": "markdown",
   "id": "e690eed3-d698-4604-bc47-74ed9a886fe9",
   "metadata": {},
   "source": [
    "## References\n",
    "<a id=\"1\">[1]</a> \n",
    "Boelens, A. M. P. and Tchelepi, H. A. (2021). \n",
    "QuantImPy: Minkowski functionals and functions with Python.\n",
    "SoftwareX, Volume 16, doi: [10.1016/j.softx.2021.100823](https://www.sciencegate.app/app/redirect#aHR0cHM6Ly9keC5kb2kub3JnLzEwLjEwMTYvai5zb2Z0eC4yMDIxLjEwMDgyMw==)\n",
    "\n",
    "\n",
    "<a id=\"2\">[2]</a> \n",
    "Van der Walt, S. et al. (2014). \n",
    "scikit-image: image processing in Python.  PeerJ, 2, p.e453.\n",
    "\n",
    "\n",
    "<a id=\"3\">[3]</a> \n",
    "Gostick, J. et al. (2019). \n",
    "PoreSpy: A Python Toolkit for Quantitative Analysis of Porous Media Images. Journal of Open Source Software, [doi:10.21105/joss.01296](https://doi.org/10.21105/joss.01296)"
   ]
  }
 ],
 "metadata": {
  "kernelspec": {
   "display_name": "Python 3 (ipykernel)",
   "language": "python",
   "name": "python3"
  },
  "language_info": {
   "codemirror_mode": {
    "name": "ipython",
    "version": 3
   },
   "file_extension": ".py",
   "mimetype": "text/x-python",
   "name": "python",
   "nbconvert_exporter": "python",
   "pygments_lexer": "ipython3",
   "version": "3.11.7"
  }
 },
 "nbformat": 4,
 "nbformat_minor": 5
}
